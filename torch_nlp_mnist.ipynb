{
 "cells": [
  {
   "cell_type": "code",
   "execution_count": 38,
   "metadata": {},
   "outputs": [],
   "source": [
    "import matplotlib.pyplot as plt\n",
    "import torchvision\n",
    "import torch\n",
    "import torch.utils.data\n",
    "import torch.nn as nn\n",
    "import torch.nn.functional as F\n",
    "import torchvision.transforms as transforms"
   ]
  },
  {
   "cell_type": "code",
   "execution_count": 39,
   "metadata": {},
   "outputs": [],
   "source": [
    "mnist = torchvision.datasets.MNIST(root = './data', train = True, download = True)\n"
   ]
  },
  {
   "cell_type": "code",
   "execution_count": 40,
   "metadata": {},
   "outputs": [
    {
     "data": {
      "text/plain": [
       "<matplotlib.image.AxesImage at 0x1c5088f6460>"
      ]
     },
     "execution_count": 40,
     "metadata": {},
     "output_type": "execute_result"
    },
    {
     "data": {
      "image/png": "[encoded data removed]",
      "text/plain": [
       "<Figure size 432x288 with 1 Axes>"
      ]
     },
     "metadata": {
      "needs_background": "light"
     },
     "output_type": "display_data"
    }
   ],
   "source": [
    "plt.imshow(mnist.data[16000])"
   ]
  },
  {
   "cell_type": "code",
   "execution_count": 41,
   "metadata": {},
   "outputs": [
    {
     "name": "stdout",
     "output_type": "stream",
     "text": [
      "cuda\n"
     ]
    }
   ],
   "source": [
    "#gpu 설정 여부\n",
    "device = torch.device('cuda'if torch.cuda.is_available() else'cpu')\n",
    "print(device)"
   ]
  },
  {
   "cell_type": "code",
   "execution_count": 42,
   "metadata": {},
   "outputs": [],
   "source": [
    "#Hyperparameter(사람이 지정해야 하는 파라미터)\n",
    "input_size = 784\n",
    "hidden_size = 500\n",
    "num_classes = 10 #mnist data의 분류 갯수(0~9 10개)\n",
    "num_epochs = 5 \n",
    "batch_size = 100\n",
    "learning_rate = 0.001"
   ]
  },
  {
   "cell_type": "code",
   "execution_count": 43,
   "metadata": {},
   "outputs": [],
   "source": [
    "#dataset과 dataloader\n",
    "#dataset\n",
    "train_dataset = torchvision.datasets.MNIST(root = './data',train=True,transform = torchvision.transforms.ToTensor(),download=True)\n",
    "test_dataset = torchvision.datasets.MNIST(root = './data', train = False, transform = torchvision.transforms.ToTensor())\n",
    "\n"
   ]
  },
  {
   "cell_type": "code",
   "execution_count": 48,
   "metadata": {},
   "outputs": [],
   "source": [
    "#data loader\n",
    "train_loader = torch.utils.data.DataLoader(dataset = train_dataset, batch_size = batch_size, shuffle = True)\n",
    "test_loader = torch.utils.data.DataLoader(dataset = test_dataset,batch_size = batch_size, shuffle=False)"
   ]
  },
  {
   "cell_type": "code",
   "execution_count": 45,
   "metadata": {},
   "outputs": [],
   "source": [
    "class NeuralNet(nn.Module):\n",
    "    def __init__(self, input_size, hidden_size, num_classes):\n",
    "        super(NeuralNet,self).__init__()\n",
    "        self.fc1 = nn.Linear(input_size, hidden_size)\n",
    "        self.fc2 = nn.Linear(hidden_size, hidden_size)\n",
    "        self.fc3 = nn.Linear(hidden_size, num_classes)\n",
    "    \n",
    "    def forward(self,x):\n",
    "        out = F.relu(self.fc1(x))\n",
    "        out = F.relu(self.fc2(out))\n",
    "        out = self.fc3(out)\n",
    "        return out\n",
    "\n",
    "model = NeuralNet(input_size,hidden_size,num_classes).to(device)\n",
    "        "
   ]
  },
  {
   "cell_type": "code",
   "execution_count": 75,
   "metadata": {},
   "outputs": [],
   "source": [
    "criterion = nn.CrossEntropyLoss()\n",
    "optimizer = torch.optim.Adam(model.parameters(), lr = learning_rate)"
   ]
  },
  {
   "cell_type": "code",
   "execution_count": 76,
   "metadata": {},
   "outputs": [
    {
     "name": "stdout",
     "output_type": "stream",
     "text": [
      "Epoch [1/5], Step [100/600], Loss: 0.1379\n",
      "tensor(0.1379, device='cuda:0', grad_fn=<NllLossBackward0>) ㅇㅇㅇㅇㅇㅇ\n",
      "Epoch [1/5], Step [200/600], Loss: 0.0011\n",
      "tensor(0.0011, device='cuda:0', grad_fn=<NllLossBackward0>) ㅇㅇㅇㅇㅇㅇ\n",
      "Epoch [1/5], Step [300/600], Loss: 0.0005\n",
      "tensor(0.0005, device='cuda:0', grad_fn=<NllLossBackward0>) ㅇㅇㅇㅇㅇㅇ\n",
      "Epoch [1/5], Step [400/600], Loss: 0.0002\n",
      "tensor(0.0002, device='cuda:0', grad_fn=<NllLossBackward0>) ㅇㅇㅇㅇㅇㅇ\n",
      "Epoch [1/5], Step [500/600], Loss: 0.0049\n",
      "tensor(0.0049, device='cuda:0', grad_fn=<NllLossBackward0>) ㅇㅇㅇㅇㅇㅇ\n",
      "Epoch [1/5], Step [600/600], Loss: 0.1564\n",
      "tensor(0.1564, device='cuda:0', grad_fn=<NllLossBackward0>) ㅇㅇㅇㅇㅇㅇ\n",
      "Epoch [2/5], Step [100/600], Loss: 0.0050\n",
      "tensor(0.0050, device='cuda:0', grad_fn=<NllLossBackward0>) ㅇㅇㅇㅇㅇㅇ\n",
      "Epoch [2/5], Step [200/600], Loss: 0.0000\n",
      "tensor(3.2579e-06, device='cuda:0', grad_fn=<NllLossBackward0>) ㅇㅇㅇㅇㅇㅇ\n",
      "Epoch [2/5], Step [300/600], Loss: 0.0000\n",
      "tensor(3.4426e-06, device='cuda:0', grad_fn=<NllLossBackward0>) ㅇㅇㅇㅇㅇㅇ\n",
      "Epoch [2/5], Step [400/600], Loss: 0.0482\n",
      "tensor(0.0482, device='cuda:0', grad_fn=<NllLossBackward0>) ㅇㅇㅇㅇㅇㅇ\n",
      "Epoch [2/5], Step [500/600], Loss: 0.0798\n",
      "tensor(0.0798, device='cuda:0', grad_fn=<NllLossBackward0>) ㅇㅇㅇㅇㅇㅇ\n",
      "Epoch [2/5], Step [600/600], Loss: 0.0007\n",
      "tensor(0.0007, device='cuda:0', grad_fn=<NllLossBackward0>) ㅇㅇㅇㅇㅇㅇ\n",
      "Epoch [3/5], Step [100/600], Loss: 0.0017\n",
      "tensor(0.0017, device='cuda:0', grad_fn=<NllLossBackward0>) ㅇㅇㅇㅇㅇㅇ\n",
      "Epoch [3/5], Step [200/600], Loss: 0.0011\n",
      "tensor(0.0011, device='cuda:0', grad_fn=<NllLossBackward0>) ㅇㅇㅇㅇㅇㅇ\n",
      "Epoch [3/5], Step [300/600], Loss: 0.0001\n",
      "tensor(0.0001, device='cuda:0', grad_fn=<NllLossBackward0>) ㅇㅇㅇㅇㅇㅇ\n",
      "Epoch [3/5], Step [400/600], Loss: 0.0001\n",
      "tensor(7.0851e-05, device='cuda:0', grad_fn=<NllLossBackward0>) ㅇㅇㅇㅇㅇㅇ\n",
      "Epoch [3/5], Step [500/600], Loss: 0.0957\n",
      "tensor(0.0957, device='cuda:0', grad_fn=<NllLossBackward0>) ㅇㅇㅇㅇㅇㅇ\n",
      "Epoch [3/5], Step [600/600], Loss: 0.0176\n",
      "tensor(0.0176, device='cuda:0', grad_fn=<NllLossBackward0>) ㅇㅇㅇㅇㅇㅇ\n",
      "Epoch [4/5], Step [100/600], Loss: 0.0194\n",
      "tensor(0.0194, device='cuda:0', grad_fn=<NllLossBackward0>) ㅇㅇㅇㅇㅇㅇ\n",
      "Epoch [4/5], Step [200/600], Loss: 0.0141\n",
      "tensor(0.0141, device='cuda:0', grad_fn=<NllLossBackward0>) ㅇㅇㅇㅇㅇㅇ\n",
      "Epoch [4/5], Step [300/600], Loss: 0.0005\n",
      "tensor(0.0005, device='cuda:0', grad_fn=<NllLossBackward0>) ㅇㅇㅇㅇㅇㅇ\n",
      "Epoch [4/5], Step [400/600], Loss: 0.0004\n",
      "tensor(0.0004, device='cuda:0', grad_fn=<NllLossBackward0>) ㅇㅇㅇㅇㅇㅇ\n",
      "Epoch [4/5], Step [500/600], Loss: 0.0060\n",
      "tensor(0.0060, device='cuda:0', grad_fn=<NllLossBackward0>) ㅇㅇㅇㅇㅇㅇ\n",
      "Epoch [4/5], Step [600/600], Loss: 0.0683\n",
      "tensor(0.0683, device='cuda:0', grad_fn=<NllLossBackward0>) ㅇㅇㅇㅇㅇㅇ\n",
      "Epoch [5/5], Step [100/600], Loss: 0.0006\n",
      "tensor(0.0006, device='cuda:0', grad_fn=<NllLossBackward0>) ㅇㅇㅇㅇㅇㅇ\n",
      "Epoch [5/5], Step [200/600], Loss: 0.0008\n",
      "tensor(0.0008, device='cuda:0', grad_fn=<NllLossBackward0>) ㅇㅇㅇㅇㅇㅇ\n",
      "Epoch [5/5], Step [300/600], Loss: 0.0001\n",
      "tensor(0.0001, device='cuda:0', grad_fn=<NllLossBackward0>) ㅇㅇㅇㅇㅇㅇ\n",
      "Epoch [5/5], Step [400/600], Loss: 0.0000\n",
      "tensor(2.2733e-05, device='cuda:0', grad_fn=<NllLossBackward0>) ㅇㅇㅇㅇㅇㅇ\n",
      "Epoch [5/5], Step [500/600], Loss: 0.0058\n",
      "tensor(0.0058, device='cuda:0', grad_fn=<NllLossBackward0>) ㅇㅇㅇㅇㅇㅇ\n",
      "Epoch [5/5], Step [600/600], Loss: 0.0369\n",
      "tensor(0.0369, device='cuda:0', grad_fn=<NllLossBackward0>) ㅇㅇㅇㅇㅇㅇ\n"
     ]
    }
   ],
   "source": [
    "#Training\n",
    "\n",
    "loss_arr = []\n",
    "total_step = len(train_loader)\n",
    "for epoch in range(num_epochs):\n",
    "  for i, (images, labels) in enumerate(train_loader):\n",
    "    # 이미지와 정답(label)을 device로 올림\n",
    "    images = images.reshape(-1, 28*28).to(device) \n",
    "    labels = labels.to(device)\n",
    "    # Feedforward 과정\n",
    "    outputs = model(images)\n",
    "    # Loss 계산\n",
    "    loss = criterion(outputs, labels)\n",
    "    # Backward and optimize\n",
    "    optimizer.zero_grad() # iteration 마다 gradient를 0으로 초기화\n",
    "    loss.backward() # 가중치 w에 대해 loss를 미분\n",
    "    optimizer.step() # 가중치들을 업데이트\n",
    "    if (i+1) % 100 == 0:\n",
    "      loss_arr.append(loss.item())\n",
    "      print('Epoch [{}/{}], Step [{}/{}], Loss: {:.4f}'.format(epoch+1, num_epochs, i+1, total_step, loss.item()))\n",
    "      "
   ]
  },
  {
   "cell_type": "code",
   "execution_count": 77,
   "metadata": {},
   "outputs": [
    {
     "data": {
      "text/plain": [
       "[0.13792969286441803,\n",
       " 0.0011261588661000133,\n",
       " 0.0005497001693584025,\n",
       " 0.00020828557899221778,\n",
       " 0.00493539497256279,\n",
       " 0.15635277330875397,\n",
       " 0.0049646589905023575,\n",
       " 3.2578950595052447e-06,\n",
       " 3.4426236652507214e-06,\n",
       " 0.0482051745057106,\n",
       " 0.07982418686151505,\n",
       " 0.0006527808145619929,\n",
       " 0.0017325542867183685,\n",
       " 0.0010944250971078873,\n",
       " 0.00013953627785667777,\n",
       " 7.085053948685527e-05,\n",
       " 0.09571858495473862,\n",
       " 0.017595894634723663,\n",
       " 0.019355256110429764,\n",
       " 0.014085156843066216,\n",
       " 0.0004905482637695968,\n",
       " 0.00044710596557706594,\n",
       " 0.006039686966687441,\n",
       " 0.06830112636089325,\n",
       " 0.0006315206992439926,\n",
       " 0.0008367050904780626,\n",
       " 0.00012984259228687733,\n",
       " 2.273342033731751e-05,\n",
       " 0.005791321396827698,\n",
       " 0.03692380711436272]"
      ]
     },
     "execution_count": 77,
     "metadata": {},
     "output_type": "execute_result"
    }
   ],
   "source": [
    "loss_arr"
   ]
  },
  {
   "cell_type": "code",
   "execution_count": 78,
   "metadata": {},
   "outputs": [
    {
     "name": "stdout",
     "output_type": "stream",
     "text": [
      "Accuracy of the network on the 10000 test images: 97.96 %\n"
     ]
    }
   ],
   "source": [
    "# Test 과정 : 학습한 모델의 성능을 확인하는 과정\n",
    "# accuracy 계산\n",
    "# 이 과정에서는 gradient를 계산할 필요가 없음!\n",
    "with torch.no_grad():\n",
    "  correct = 0\n",
    "  total = 0\n",
    "  for images, labels in test_loader:\n",
    "    images = images.reshape(-1, 28*28).to(device)\n",
    "    labels = labels.to(device)\n",
    "    outputs = model(images)\n",
    "    _, predicted = torch.max(outputs.data, 1)\n",
    "    total += labels.size(0)\n",
    "    correct += (predicted == labels).sum().item()\n",
    "  print('Accuracy of the network on the 10000 test images: {} %'\n",
    "  .format(100 * correct / total))\n",
    "\n"
   ]
  },
  {
   "cell_type": "code",
   "execution_count": 79,
   "metadata": {},
   "outputs": [
    {
     "name": "stdout",
     "output_type": "stream",
     "text": [
      "<class 'list'>\n",
      "<class 'list'>\n"
     ]
    }
   ],
   "source": [
    "apap = [1,2,3,4]\n",
    "print(type(apap))\n",
    "print(type(loss_arr))"
   ]
  },
  {
   "cell_type": "code",
   "execution_count": 82,
   "metadata": {},
   "outputs": [
    {
     "data": {
      "text/plain": [
       "[<matplotlib.lines.Line2D at 0x1c50892a790>]"
      ]
     },
     "execution_count": 82,
     "metadata": {},
     "output_type": "execute_result"
    },
    {
     "data": {
      "image/png": "[encoded data removed]",
      "text/plain": [
       "<Figure size 432x288 with 1 Axes>"
      ]
     },
     "metadata": {
      "needs_background": "light"
     },
     "output_type": "display_data"
    }
   ],
   "source": [
    "# Save the model checkpoint\n",
    "#torch.save(model.state_dict(), 'model.ckpt')\n",
    "\n",
    "plt.plot(loss_arr)\n",
    "#plt.show()"
   ]
  }
 ],
 "metadata": {
  "interpreter": {
   "hash": "fd77d87a4de16a9f9d3defb60096616496f7169aca57ee3347a964a29a767458"
  },
  "kernelspec": {
   "display_name": "Python 3.9.7 64-bit ('pytorch1': conda)",
   "language": "python",
   "name": "python3"
  },
  "language_info": {
   "codemirror_mode": {
    "name": "ipython",
    "version": 3
   },
   "file_extension": ".py",
   "mimetype": "text/x-python",
   "name": "python",
   "nbconvert_exporter": "python",
   "pygments_lexer": "ipython3",
   "version": "3.9.7"
  },
  "orig_nbformat": 4
 },
 "nbformat": 4,
 "nbformat_minor": 2
}
