{
 "cells": [
  {
   "cell_type": "markdown",
   "metadata": {},
   "source": [
    "Selenium을 사용한 동적 크롤링"
   ]
  },
  {
   "cell_type": "code",
   "execution_count": 13,
   "metadata": {},
   "outputs": [],
   "source": [
    "import time\n",
    "import urllib.request\n",
    "from selenium import webdriver\n",
    "from bs4 import BeautifulSoup\n",
    "\n"
   ]
  },
  {
   "cell_type": "code",
   "execution_count": 11,
   "metadata": {},
   "outputs": [
    {
     "name": "stderr",
     "output_type": "stream",
     "text": [
      "C:\\Users\\tlseh\\AppData\\Local\\Temp/ipykernel_10892/2564538771.py:1: DeprecationWarning: executable_path has been deprecated, please pass in a Service object\n",
      "  driver = webdriver.Chrome('./chromedriver')\n"
     ]
    }
   ],
   "source": [
    "driver = webdriver.Chrome('./chromedriver')\n",
    "time.sleep(3)\n",
    "driver.get('https://www.imdb.com/title/tt2382320/reviews?sort=userRating&dir=desc&ratingFilter=0')"
   ]
  },
  {
   "cell_type": "code",
   "execution_count": 12,
   "metadata": {},
   "outputs": [
    {
     "name": "stderr",
     "output_type": "stream",
     "text": [
      "C:\\Users\\tlseh\\AppData\\Local\\Temp/ipykernel_10892/1249824253.py:1: DeprecationWarning: find_element_by_* commands are deprecated. Please use find_element() instead\n",
      "  driver.find_element_by_xpath('//*[@id=\"load-more-trigger\"]').click()\n",
      "C:\\Users\\tlseh\\AppData\\Local\\Temp/ipykernel_10892/1249824253.py:3: DeprecationWarning: find_element_by_* commands are deprecated. Please use find_element() instead\n",
      "  driver.find_element_by_xpath('//*[@id=\"load-more-trigger\"]').click()\n",
      "C:\\Users\\tlseh\\AppData\\Local\\Temp/ipykernel_10892/1249824253.py:5: DeprecationWarning: find_element_by_* commands are deprecated. Please use find_element() instead\n",
      "  driver.find_element_by_xpath('//*[@id=\"load-more-trigger\"]').click()\n"
     ]
    }
   ],
   "source": [
    "#클릭을 위해 xpath coppy\n",
    "\n",
    "driver.find_element_by_xpath('//*[@id=\"load-more-trigger\"]').click()\n",
    "time.sleep(5)\n",
    "driver.find_element_by_xpath('//*[@id=\"load-more-trigger\"]').click()\n",
    "time.sleep(5)\n",
    "driver.find_element_by_xpath('//*[@id=\"load-more-trigger\"]').click()\n",
    "time.sleep(5)"
   ]
  },
  {
   "cell_type": "code",
   "execution_count": 14,
   "metadata": {},
   "outputs": [
    {
     "name": "stderr",
     "output_type": "stream",
     "text": [
      "C:\\Users\\tlseh\\AppData\\Local\\Temp/ipykernel_10892/2148778719.py:1: DeprecationWarning: find_elements_by_* commands are deprecated. Please use find_elements() instead\n",
      "  click_list = driver.find_elements_by_xpath(\"//div[@class='expander-icon-wrapper show-more__control']\")\n"
     ]
    }
   ],
   "source": [
    "click_list = driver.find_elements_by_xpath(\"//div[@class='expander-icon-wrapper show-more__control']\")\n",
    "for click in click_list:\n",
    "    if click.is_displayed():\n",
    "        click.click()\n",
    "req = driver.page_source\n",
    "bs = BeautifulSoup(req, 'lxml')"
   ]
  },
  {
   "cell_type": "code",
   "execution_count": 15,
   "metadata": {},
   "outputs": [],
   "source": [
    "title_list = bs.findAll('a', 'title')\n",
    "review_list = bs.findAll('div', 'text show-more__control')\n",
    "score_list = bs.findAll('span', 'rating-other-user-rating')"
   ]
  },
  {
   "cell_type": "code",
   "execution_count": 16,
   "metadata": {},
   "outputs": [],
   "source": [
    "import re\n",
    "def clean_str(string):\n",
    "    string = re.sub(r\"[^A-Za-z0-9(),!?\\'\\`]\", \" \", string)\n",
    "    string = re.sub(r\"\\'s\", \" \\'s\", string)\n",
    "    string = re.sub(r\"\\'ve\", \" \\'ve\", string)\n",
    "    string = re.sub(r\"n\\'t\", \" n\\'t\", string)\n",
    "    string = re.sub(r\"\\'re\", \" \\'re\", string)\n",
    "    string = re.sub(r\"\\'d\", \" \\'d\", string)\n",
    "    string = re.sub(r\"\\'ll\", \" \\'ll\", string)\n",
    "    string = re.sub(r\",\", \" , \", string)\n",
    "    string = re.sub(r\"!\", \" ! \", string)\n",
    "    string = re.sub(r\"\\(\", \" \\( \", string)\n",
    "    string = re.sub(r\"\\)\", \" \\) \", string)\n",
    "    string = re.sub(r\"\\?\", \" \\? \", string)\n",
    "    string = re.sub(r\"\\s{2,}\", \" \", string)\n",
    "    return string.strip().lower()"
   ]
  },
  {
   "cell_type": "code",
   "execution_count": 17,
   "metadata": {},
   "outputs": [],
   "source": [
    "with open('./review.txt', 'w', encoding='UTF-8') as f:\n",
    "    for i in range(len(title_list)):\n",
    "        line = clean_str(title_list[i].getText())+\" \"+clean_str(review_list[i].getText())+\"\\n\"\n",
    "        f.write(line)\n",
    "with open('./score.txt', 'w', encoding='UTF-8') as f:\n",
    "    for i in range(len(score_list)):\n",
    "        line = score_list[i].span.getText()+\"\\n\"\n",
    "        f.write(line)"
   ]
  },
  {
   "cell_type": "code",
   "execution_count": null,
   "metadata": {},
   "outputs": [],
   "source": []
  }
 ],
 "metadata": {
  "interpreter": {
   "hash": "fd77d87a4de16a9f9d3defb60096616496f7169aca57ee3347a964a29a767458"
  },
  "kernelspec": {
   "display_name": "Python 3.9.7 64-bit ('pytorch1': conda)",
   "language": "python",
   "name": "python3"
  },
  "language_info": {
   "codemirror_mode": {
    "name": "ipython",
    "version": 3
   },
   "file_extension": ".py",
   "mimetype": "text/x-python",
   "name": "python",
   "nbconvert_exporter": "python",
   "pygments_lexer": "ipython3",
   "version": "3.9.7"
  },
  "orig_nbformat": 4
 },
 "nbformat": 4,
 "nbformat_minor": 2
}
